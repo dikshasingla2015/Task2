{
 "cells": [
  {
   "cell_type": "markdown",
   "metadata": {},
   "source": [
    "# Created by Diksha Singla on 10-06-2019"
   ]
  },
  {
   "cell_type": "markdown",
   "metadata": {},
   "source": [
    "# Query 1:Which team has won/lost maximum number of matches while chasing?\n",
    "\n",
    "a.) team which has won maximum number of matches while chasing"
   ]
  },
  {
   "cell_type": "code",
   "execution_count": 6,
   "metadata": {},
   "outputs": [],
   "source": [
    "import pandas as pd\n",
    "data_df=pd.read_csv(\"matches.csv\",parse_dates=['date'])\n",
    "normal_df=data_df[data_df['result']=='normal']"
   ]
  },
  {
   "cell_type": "code",
   "execution_count": 10,
   "metadata": {},
   "outputs": [],
   "source": [
    "win_df=normal_df[(normal_df[\"toss_decision\"]==\"field\")&(normal_df[\"toss_winner\"]==normal_df[\"winner\"])|(normal_df[\"toss_decision\"]==\"bat\")&(normal_df[\"toss_winner\"]\n",
    "                                                                                                                                             !=normal_df[\"winner\"])]"
   ]
  },
  {
   "cell_type": "code",
   "execution_count": 34,
   "metadata": {},
   "outputs": [
    {
     "data": {
      "text/plain": [
       "Kolkata Knight Riders          58\n",
       "Mumbai Indians                 50\n",
       "Chennai Super Kings            49\n",
       "Royal Challengers Bangalore    48\n",
       "Rajasthan Royals               46\n",
       "Kings XI Punjab                43\n",
       "Delhi Daredevils               42\n",
       "Sunrisers Hyderabad            27\n",
       "Gujarat Lions                  12\n",
       "Deccan Chargers                11\n",
       "Delhi Capitals                  6\n",
       "Pune Warriors                   6\n",
       "Rising Pune Supergiants         5\n",
       "Rising Pune Supergiant          5\n",
       "Kochi Tuskers Kerala            4\n",
       "Name: winner, dtype: int64"
      ]
     },
     "execution_count": 34,
     "metadata": {},
     "output_type": "execute_result"
    }
   ],
   "source": [
    "win_df['winner'].value_counts()"
   ]
  },
  {
   "cell_type": "code",
   "execution_count": 35,
   "metadata": {},
   "outputs": [
    {
     "data": {
      "text/plain": [
       "Kolkata Knight Riders    58\n",
       "Name: winner, dtype: int64"
      ]
     },
     "execution_count": 35,
     "metadata": {},
     "output_type": "execute_result"
    }
   ],
   "source": [
    "win_df['winner'].value_counts().head(1)"
   ]
  },
  {
   "cell_type": "code",
   "execution_count": null,
   "metadata": {},
   "outputs": [],
   "source": [
    "#Kolkata knight Riders has won maximum number of matches while chasing"
   ]
  },
  {
   "cell_type": "markdown",
   "metadata": {},
   "source": [
    "b.) team which has lost maximum number of matches while chasing"
   ]
  },
  {
   "cell_type": "code",
   "execution_count": 23,
   "metadata": {},
   "outputs": [],
   "source": [
    "loss_df=normal_df[(normal_df[\"toss_decision\"]=='field')&(normal_df[\"winner\"]!=normal_df[\"toss_winner\"])|(normal_df[\"toss_decision\"]=='bat')&(normal_df[\"winner\"]!=normal_df[\"toss_winner\"])]"
   ]
  },
  {
   "cell_type": "code",
   "execution_count": 26,
   "metadata": {},
   "outputs": [
    {
     "data": {
      "text/plain": [
       "Mumbai Indians                 52\n",
       "Kings XI Punjab                46\n",
       "Chennai Super Kings            43\n",
       "Royal Challengers Bangalore    43\n",
       "Kolkata Knight Riders          39\n",
       "Sunrisers Hyderabad            34\n",
       "Rajasthan Royals               32\n",
       "Delhi Daredevils               32\n",
       "Deccan Chargers                10\n",
       "Pune Warriors                   9\n",
       "Rising Pune Supergiant          5\n",
       "Delhi Capitals                  3\n",
       "Gujarat Lions                   3\n",
       "Rising Pune Supergiants         2\n",
       "Kochi Tuskers Kerala            2\n",
       "Name: winner, dtype: int64"
      ]
     },
     "execution_count": 26,
     "metadata": {},
     "output_type": "execute_result"
    }
   ],
   "source": [
    "loss_df['winner'].value_counts()"
   ]
  },
  {
   "cell_type": "code",
   "execution_count": 33,
   "metadata": {},
   "outputs": [
    {
     "data": {
      "text/plain": [
       "Mumbai Indians    52\n",
       "Name: winner, dtype: int64"
      ]
     },
     "execution_count": 33,
     "metadata": {},
     "output_type": "execute_result"
    }
   ],
   "source": [
    "loss_df['winner'].value_counts().head(1)"
   ]
  },
  {
   "cell_type": "code",
   "execution_count": null,
   "metadata": {},
   "outputs": [],
   "source": [
    "#Mumbai Indian has loss maximum number of matches"
   ]
  },
  {
   "cell_type": "code",
   "execution_count": null,
   "metadata": {},
   "outputs": [],
   "source": []
  },
  {
   "cell_type": "markdown",
   "metadata": {},
   "source": [
    "# Query2:Which toss decision is best for each ground?"
   ]
  },
  {
   "cell_type": "code",
   "execution_count": 2,
   "metadata": {},
   "outputs": [],
   "source": [
    "import pandas as pd\n",
    "data_df=pd.read_csv(\"matches.csv\",parse_dates=['date'])\n",
    "normal_df=data_df[data_df['result']=='normal']"
   ]
  },
  {
   "cell_type": "code",
   "execution_count": 3,
   "metadata": {},
   "outputs": [],
   "source": [
    "count_field=normal_df[(normal_df[\"toss_decision\"]==\"field\")&(normal_df[\"toss_winner\"]==normal_df[\"winner\"])]"
   ]
  },
  {
   "cell_type": "code",
   "execution_count": 4,
   "metadata": {},
   "outputs": [],
   "source": [
    "count_field_result=count_field['venue'].value_counts()\n",
    "count_field_result_dict={}\n",
    "for i in range(0,len(count_field_result),1):\n",
    "    count_field_result_dict[count_field_result.index[i]]=count_field_result.iloc[i]"
   ]
  },
  {
   "cell_type": "code",
   "execution_count": 5,
   "metadata": {},
   "outputs": [],
   "source": [
    "count_bat=normal_df[(normal_df[\"toss_decision\"]==\"bat\")&(normal_df[\"toss_winner\"]==normal_df[\"winner\"])]"
   ]
  },
  {
   "cell_type": "code",
   "execution_count": 7,
   "metadata": {},
   "outputs": [],
   "source": [
    "count_bat_result=count_bat['venue'].value_counts()"
   ]
  },
  {
   "cell_type": "code",
   "execution_count": 8,
   "metadata": {},
   "outputs": [],
   "source": [
    "count_bat_result_dict={}\n",
    "for i in range(0,len(count_bat_result),1):\n",
    "    count_bat_result_dict[count_bat_result.index[i]]=count_bat_result.iloc[i]"
   ]
  },
  {
   "cell_type": "code",
   "execution_count": 9,
   "metadata": {},
   "outputs": [],
   "source": [
    "for key in count_field_result_dict.keys():\n",
    "    if key not in count_bat_result_dict.keys():\n",
    "        count_field_result_dict[key]=0"
   ]
  },
  {
   "cell_type": "code",
   "execution_count": 10,
   "metadata": {},
   "outputs": [],
   "source": [
    "count_data={}\n",
    "for key in count_field_result_dict.keys():\n",
    "    if key in count_bat_result_dict.keys():\n",
    "        count_data[key]=count_field_result_dict[key]-count_bat_result_dict[key]\n",
    "    else:\n",
    "        count_data[key]=count_field_result_dict[key]"
   ]
  },
  {
   "cell_type": "code",
   "execution_count": 11,
   "metadata": {},
   "outputs": [
    {
     "name": "stdout",
     "output_type": "stream",
     "text": [
      "M Chinnaswamy Stadium good for field\n",
      "Eden Gardens good for field\n",
      "Wankhede Stadium good for field\n",
      "Feroz Shah Kotla good for field\n",
      "Sawai Mansingh Stadium good for field\n",
      "Rajiv Gandhi International Stadium, Uppal good for field\n",
      "Maharashtra Cricket Association Stadium good for field\n",
      "Punjab Cricket Association Stadium, Mohali good for field\n",
      "Holkar Cricket Stadium neutral decision\n",
      "Dr DY Patil Sports Academy good for field\n",
      "MA Chidambaram Stadium, Chepauk good for bat\n",
      "Punjab Cricket Association IS Bindra Stadium, Mohali good for field\n",
      "IS Bindra Stadium neutral decision\n",
      "SuperSport Park good for field\n",
      "Green Park neutral decision\n",
      "Saurashtra Cricket Association Stadium neutral decision\n",
      "Himachal Pradesh Cricket Association Stadium good for field\n",
      "Kingsmead good for bat\n",
      "M. Chinnaswamy Stadium neutral decision\n",
      "M. A. Chidambaram Stadium good for field\n",
      "New Wanderers Stadium neutral decision\n",
      "JSCA International Stadium Complex good for field\n",
      "Barabati Stadium good for field\n",
      "Brabourne Stadium good for bat\n",
      "ACA-VDCA Stadium neutral decision\n",
      "Dr. Y.S. Rajasekhara Reddy ACA-VDCA Cricket Stadium neutral decision\n",
      "Sharjah Cricket Stadium neutral decision\n",
      "Dubai International Cricket Stadium good for field\n",
      "Shaheed Veer Narayan Singh International Stadium good for field\n",
      "Sheikh Zayed Stadium neutral decision\n",
      "Sardar Patel Stadium, Motera good for bat\n",
      "Feroz Shah Kotla Ground neutral decision\n",
      "OUTsurance Oval neutral decision\n",
      "Newlands good for bat\n",
      "De Beers Diamond Oval neutral decision\n",
      "Nehru Stadium neutral decision\n",
      "Rajiv Gandhi Intl. Cricket Stadium neutral decision\n"
     ]
    }
   ],
   "source": [
    "for key in count_data.keys():\n",
    "    if count_data[key]>0:\n",
    "        print(\"{} good for field\".format(key))\n",
    "    elif count_data[key]<0:\n",
    "        print(\"{} good for bat\".format(key))\n",
    "    else:\n",
    "        print(\"{} neutral decision\".format(key))"
   ]
  },
  {
   "cell_type": "code",
   "execution_count": null,
   "metadata": {},
   "outputs": [],
   "source": []
  },
  {
   "cell_type": "markdown",
   "metadata": {},
   "source": [
    "# Query3:Which player has won maximum number of MoM awards while chasing?"
   ]
  },
  {
   "cell_type": "code",
   "execution_count": 144,
   "metadata": {},
   "outputs": [],
   "source": [
    "win_df=normal_df[(normal_df[\"toss_decision\"]==\"field\")&(normal_df[\"toss_winner\"]==normal_df[\"winner\"])|(normal_df[\"toss_decision\"]==\"bat\")&(normal_df[\"toss_winner\"]\n",
    "                                                                                                                                             !=normal_df[\"winner\"])]"
   ]
  },
  {
   "cell_type": "code",
   "execution_count": 145,
   "metadata": {},
   "outputs": [],
   "source": [
    "loss_df=normal_df[(normal_df[\"toss_decision\"]=='field')&(normal_df[\"winner\"]!=normal_df[\"toss_winner\"])|(normal_df[\"toss_decision\"]=='bat')&(normal_df[\"winner\"]!=normal_df[\"toss_winner\"])]"
   ]
  },
  {
   "cell_type": "code",
   "execution_count": 156,
   "metadata": {},
   "outputs": [
    {
     "data": {
      "text/plain": [
       "CH Gayle          22\n",
       "DA Warner         19\n",
       "YK Pathan         18\n",
       "AB de Villiers    17\n",
       "SR Watson         17\n",
       "Name: player_of_match, dtype: int64"
      ]
     },
     "execution_count": 156,
     "metadata": {},
     "output_type": "execute_result"
    }
   ],
   "source": [
    "result=pd.concat([win_df,loss_df])\n",
    "result['player_of_match'].value_counts().head()"
   ]
  },
  {
   "cell_type": "code",
   "execution_count": 157,
   "metadata": {},
   "outputs": [
    {
     "data": {
      "text/plain": [
       "CH Gayle    22\n",
       "Name: player_of_match, dtype: int64"
      ]
     },
     "execution_count": 157,
     "metadata": {},
     "output_type": "execute_result"
    }
   ],
   "source": [
    "result['player_of_match'].value_counts().head(1)"
   ]
  },
  {
   "cell_type": "code",
   "execution_count": null,
   "metadata": {},
   "outputs": [],
   "source": []
  },
  {
   "cell_type": "markdown",
   "metadata": {},
   "source": [
    "# Query4:Which batsman has played maximum number of dot balls?"
   ]
  },
  {
   "cell_type": "code",
   "execution_count": 184,
   "metadata": {},
   "outputs": [
    {
     "data": {
      "text/plain": [
       "batsman\n",
       "V Kohli       1369\n",
       "S Dhawan      1319\n",
       "RG Sharma     1291\n",
       "CH Gayle      1236\n",
       "RV Uthappa    1223\n",
       "Name: batsman_runs, dtype: int64"
      ]
     },
     "execution_count": 184,
     "metadata": {},
     "output_type": "execute_result"
    }
   ],
   "source": [
    "data_df=pd.read_csv(\"deliveries.csv\")\n",
    "extra_runs=data_df[data_df[\"extra_runs\"]==0].groupby(['batsman'])\n",
    "dot_balls=extra_runs[\"batsman_runs\"].agg(lambda x:(x==0).sum()).sort_values(ascending=False)\n",
    "dot_balls.head()"
   ]
  },
  {
   "cell_type": "code",
   "execution_count": 185,
   "metadata": {},
   "outputs": [
    {
     "data": {
      "text/plain": [
       "batsman\n",
       "V Kohli    1369\n",
       "Name: batsman_runs, dtype: int64"
      ]
     },
     "execution_count": 185,
     "metadata": {},
     "output_type": "execute_result"
    }
   ],
   "source": [
    "dot_balls.head(1)"
   ]
  },
  {
   "cell_type": "code",
   "execution_count": null,
   "metadata": {},
   "outputs": [],
   "source": [
    "#Virat Kohli has played maximum number of dot balls"
   ]
  },
  {
   "cell_type": "markdown",
   "metadata": {},
   "source": [
    "# Query 5:Which batsmen came to crease but never got a chance to face a ball?"
   ]
  },
  {
   "cell_type": "code",
   "execution_count": 222,
   "metadata": {},
   "outputs": [],
   "source": [
    "data_df=pd.read_csv(\"deliveries.csv\")\n",
    "batsman_data=set(data_df[\"batsman\"])"
   ]
  },
  {
   "cell_type": "code",
   "execution_count": 223,
   "metadata": {},
   "outputs": [
    {
     "data": {
      "text/plain": [
       "['C Ganapathy', 'TP Sudhindra', 'BW Hilfenhaus', 'A Nel']"
      ]
     },
     "execution_count": 223,
     "metadata": {},
     "output_type": "execute_result"
    }
   ],
   "source": [
    "non_striker_data=set(data_df['non_striker'])\n",
    "non_striker_data\n",
    "non_strike=[]\n",
    "for index in non_striker_data:\n",
    "    if index not in batsman_data:\n",
    "        non_strike.append(index)       \n",
    "non_strike"
   ]
  },
  {
   "cell_type": "code",
   "execution_count": null,
   "metadata": {},
   "outputs": [],
   "source": []
  },
  {
   "cell_type": "markdown",
   "metadata": {},
   "source": [
    "# Query 6:Which bowler has hit for maximum number of 1s/2s/3s/4s/6s?"
   ]
  },
  {
   "cell_type": "code",
   "execution_count": 224,
   "metadata": {},
   "outputs": [],
   "source": [
    "data_df=pd.read_csv(\"deliveries.csv\")"
   ]
  },
  {
   "cell_type": "code",
   "execution_count": 225,
   "metadata": {},
   "outputs": [
    {
     "data": {
      "text/plain": [
       "bowler\n",
       "PP Chawla          171\n",
       "A Mishra           170\n",
       "Harbhajan Singh    142\n",
       "DJ Bravo           134\n",
       "RA Jadeja          131\n",
       "Name: batsman_runs, dtype: int64"
      ]
     },
     "execution_count": 225,
     "metadata": {},
     "output_type": "execute_result"
    }
   ],
   "source": [
    "max_6_hits = data_df[data_df[\"batsman_runs\"]==6].groupby(['bowler'])[\"batsman_runs\"].agg(lambda x: (x==6).count())\n",
    "max_6_hits.sort_values(ascending=False).head()"
   ]
  },
  {
   "cell_type": "code",
   "execution_count": 226,
   "metadata": {},
   "outputs": [
    {
     "data": {
      "text/plain": [
       "bowler\n",
       "PP Chawla    171\n",
       "Name: batsman_runs, dtype: int64"
      ]
     },
     "execution_count": 226,
     "metadata": {},
     "output_type": "execute_result"
    }
   ],
   "source": [
    "max_6_hits.sort_values(ascending=False).head(1)"
   ]
  },
  {
   "cell_type": "code",
   "execution_count": 228,
   "metadata": {},
   "outputs": [
    {
     "data": {
      "text/plain": [
       "bowler\n",
       "UT Yadav      384\n",
       "P Kumar       338\n",
       "B Kumar       323\n",
       "SL Malinga    316\n",
       "Z Khan        312\n",
       "Name: batsman_runs, dtype: int64"
      ]
     },
     "execution_count": 228,
     "metadata": {},
     "output_type": "execute_result"
    }
   ],
   "source": [
    "max_4_hits=data_df[data_df[\"batsman_runs\"]==4].groupby(['bowler'])[\"batsman_runs\"].agg(lambda x: (x==4).count())\n",
    "max_4_hits.sort_values(ascending=False).head()"
   ]
  },
  {
   "cell_type": "code",
   "execution_count": 230,
   "metadata": {},
   "outputs": [
    {
     "data": {
      "text/plain": [
       "bowler\n",
       "UT Yadav    384\n",
       "Name: batsman_runs, dtype: int64"
      ]
     },
     "execution_count": 230,
     "metadata": {},
     "output_type": "execute_result"
    }
   ],
   "source": [
    "max_4_hits.sort_values(ascending=False).head(1)"
   ]
  },
  {
   "cell_type": "code",
   "execution_count": 231,
   "metadata": {},
   "outputs": [
    {
     "data": {
      "text/plain": [
       "bowler\n",
       "P Kumar    16\n",
       "Name: batsman_runs, dtype: int64"
      ]
     },
     "execution_count": 231,
     "metadata": {},
     "output_type": "execute_result"
    }
   ],
   "source": [
    "max_3_hits=data_df[data_df[\"batsman_runs\"]==3].groupby(['bowler'])[\"batsman_runs\"].agg(lambda x: (x==3).count())\n",
    "max_3_hits.sort_values(ascending=False).head(1)"
   ]
  },
  {
   "cell_type": "code",
   "execution_count": 232,
   "metadata": {},
   "outputs": [
    {
     "data": {
      "text/plain": [
       "bowler\n",
       "A Mishra    232\n",
       "Name: batsman_runs, dtype: int64"
      ]
     },
     "execution_count": 232,
     "metadata": {},
     "output_type": "execute_result"
    }
   ],
   "source": [
    "max_2_hits=data_df[data_df[\"batsman_runs\"]==2].groupby(['bowler'])[\"batsman_runs\"].agg(lambda x: (x==2).count())\n",
    "max_2_hits.sort_values(ascending=False).head(1)"
   ]
  },
  {
   "cell_type": "code",
   "execution_count": 233,
   "metadata": {},
   "outputs": [
    {
     "data": {
      "text/plain": [
       "bowler\n",
       "Harbhajan Singh    1465\n",
       "Name: batsman_runs, dtype: int64"
      ]
     },
     "execution_count": 233,
     "metadata": {},
     "output_type": "execute_result"
    }
   ],
   "source": [
    "max_1_hits=data_df[data_df[\"batsman_runs\"]==1].groupby(['bowler'])[\"batsman_runs\"].agg(lambda x: (x==1).count())\n",
    "max_1_hits.sort_values(ascending=False).head(1)"
   ]
  },
  {
   "cell_type": "code",
   "execution_count": null,
   "metadata": {},
   "outputs": [],
   "source": []
  },
  {
   "cell_type": "markdown",
   "metadata": {},
   "source": [
    "# Query7:Which batsman got stumped out maximum number of times?"
   ]
  },
  {
   "cell_type": "code",
   "execution_count": 210,
   "metadata": {},
   "outputs": [],
   "source": [
    "data_df=pd.read_csv(\"deliveries.csv\")"
   ]
  },
  {
   "cell_type": "code",
   "execution_count": 258,
   "metadata": {},
   "outputs": [
    {
     "data": {
      "text/plain": [
       "SK Raina          8\n",
       "RV Uthappa        7\n",
       "AT Rayudu         7\n",
       "AB de Villiers    6\n",
       "PA Patel          6\n",
       "Name: batsman, dtype: int64"
      ]
     },
     "execution_count": 258,
     "metadata": {},
     "output_type": "execute_result"
    }
   ],
   "source": [
    "stumped_data=data_df[(data_df[\"dismissal_kind\"]=='stumped')&(data_df[\"batsman\"]==data_df[\"player_dismissed\"])]\n",
    "stumped_data['batsman'].value_counts().head()"
   ]
  },
  {
   "cell_type": "code",
   "execution_count": 220,
   "metadata": {},
   "outputs": [
    {
     "data": {
      "text/plain": [
       "SK Raina    8\n",
       "Name: batsman, dtype: int64"
      ]
     },
     "execution_count": 220,
     "metadata": {},
     "output_type": "execute_result"
    }
   ],
   "source": [
    "stumped_data['batsman'].value_counts().head(1)"
   ]
  },
  {
   "cell_type": "code",
   "execution_count": null,
   "metadata": {},
   "outputs": [],
   "source": [
    "# SK Raina got stumped maximum number of times"
   ]
  },
  {
   "cell_type": "code",
   "execution_count": null,
   "metadata": {},
   "outputs": [],
   "source": []
  },
  {
   "cell_type": "markdown",
   "metadata": {},
   "source": [
    "# Query 8:Which non-striker has been part of maximum number of runouts?"
   ]
  },
  {
   "cell_type": "code",
   "execution_count": 243,
   "metadata": {},
   "outputs": [],
   "source": [
    "data_df=pd.read_csv(\"deliveries.csv\")"
   ]
  },
  {
   "cell_type": "code",
   "execution_count": 254,
   "metadata": {},
   "outputs": [
    {
     "data": {
      "text/plain": [
       "AB de Villiers    8\n",
       "G Gambhir         8\n",
       "M Vijay           8\n",
       "SK Raina          7\n",
       "F du Plessis      6\n",
       "Name: non_striker, dtype: int64"
      ]
     },
     "execution_count": 254,
     "metadata": {},
     "output_type": "execute_result"
    }
   ],
   "source": [
    "runout_data=data_df[(data_df[\"dismissal_kind\"]=='run out')&(data_df[\"non_striker\"]==data_df[\"player_dismissed\"])]\n",
    "runout_data['non_striker'].value_counts().head()"
   ]
  },
  {
   "cell_type": "code",
   "execution_count": 255,
   "metadata": {},
   "outputs": [
    {
     "data": {
      "text/plain": [
       "AB de Villiers    8\n",
       "Name: non_striker, dtype: int64"
      ]
     },
     "execution_count": 255,
     "metadata": {},
     "output_type": "execute_result"
    }
   ],
   "source": [
    "runout_data['non_striker'].value_counts().head(1)"
   ]
  },
  {
   "cell_type": "code",
   "execution_count": null,
   "metadata": {},
   "outputs": [],
   "source": [
    "#AB de Villiars has been part of maximum number of runouts"
   ]
  },
  {
   "cell_type": "code",
   "execution_count": null,
   "metadata": {},
   "outputs": [],
   "source": []
  },
  {
   "cell_type": "markdown",
   "metadata": {},
   "source": [
    "# Query 9:Which batsman got caught maximum number of times?"
   ]
  },
  {
   "cell_type": "code",
   "execution_count": 260,
   "metadata": {},
   "outputs": [
    {
     "data": {
      "text/plain": [
       "SK Raina      112\n",
       "RV Uthappa    108\n",
       "RG Sharma     103\n",
       "V Kohli        95\n",
       "KD Karthik     85\n",
       "Name: batsman, dtype: int64"
      ]
     },
     "execution_count": 260,
     "metadata": {},
     "output_type": "execute_result"
    }
   ],
   "source": [
    "data_df=pd.read_csv(\"deliveries.csv\")\n",
    "batsman_caught_data=data_df[(data_df[\"dismissal_kind\"]=='caught')&(data_df[\"batsman\"]==data_df[\"player_dismissed\"])]\n",
    "batsman_caught_data['batsman'].value_counts().head()"
   ]
  },
  {
   "cell_type": "code",
   "execution_count": 261,
   "metadata": {},
   "outputs": [
    {
     "data": {
      "text/plain": [
       "SK Raina    112\n",
       "Name: batsman, dtype: int64"
      ]
     },
     "execution_count": 261,
     "metadata": {},
     "output_type": "execute_result"
    }
   ],
   "source": [
    "batsman_caught_data['batsman'].value_counts().head(1)"
   ]
  },
  {
   "cell_type": "code",
   "execution_count": null,
   "metadata": {},
   "outputs": [],
   "source": []
  },
  {
   "cell_type": "markdown",
   "metadata": {},
   "source": [
    "# Query 10:Which batsman got lbw maximum number of times?"
   ]
  },
  {
   "cell_type": "code",
   "execution_count": 264,
   "metadata": {},
   "outputs": [
    {
     "data": {
      "text/plain": [
       "BB McCullum    16\n",
       "RV Uthappa     13\n",
       "PA Patel       12\n",
       "DR Smith       12\n",
       "RG Sharma      11\n",
       "Name: batsman, dtype: int64"
      ]
     },
     "execution_count": 264,
     "metadata": {},
     "output_type": "execute_result"
    }
   ],
   "source": [
    "data_df=pd.read_csv(\"deliveries.csv\")\n",
    "batsman_lbw_data=data_df[(data_df[\"dismissal_kind\"]=='lbw')&(data_df[\"batsman\"]==data_df[\"player_dismissed\"])]\n",
    "batsman_lbw_data['batsman'].value_counts().head()"
   ]
  },
  {
   "cell_type": "code",
   "execution_count": 265,
   "metadata": {},
   "outputs": [
    {
     "data": {
      "text/plain": [
       "BB McCullum    16\n",
       "Name: batsman, dtype: int64"
      ]
     },
     "execution_count": 265,
     "metadata": {},
     "output_type": "execute_result"
    }
   ],
   "source": [
    "batsman_lbw_data['batsman'].value_counts().head(1)"
   ]
  },
  {
   "cell_type": "code",
   "execution_count": null,
   "metadata": {},
   "outputs": [],
   "source": []
  },
  {
   "cell_type": "markdown",
   "metadata": {},
   "source": [
    "# Query 11:Which season has the most number of matches?"
   ]
  },
  {
   "cell_type": "code",
   "execution_count": 276,
   "metadata": {},
   "outputs": [
    {
     "data": {
      "text/plain": [
       "season  season\n",
       "2013    2013      76\n",
       "Name: season, dtype: int64"
      ]
     },
     "execution_count": 276,
     "metadata": {},
     "output_type": "execute_result"
    }
   ],
   "source": [
    "data_df=pd.read_csv(\"matches.csv\")\n",
    "data_df.groupby('season')['season'].value_counts().sort_values(ascending=False).head(1)"
   ]
  },
  {
   "cell_type": "code",
   "execution_count": null,
   "metadata": {},
   "outputs": [],
   "source": []
  },
  {
   "cell_type": "markdown",
   "metadata": {},
   "source": [
    "# Ques 12:Find maximum number of wickets taken by a bowler?"
   ]
  },
  {
   "cell_type": "code",
   "execution_count": 287,
   "metadata": {},
   "outputs": [],
   "source": [
    "data_df=pd.read_csv(\"deliveries.csv\")"
   ]
  },
  {
   "cell_type": "code",
   "execution_count": 294,
   "metadata": {},
   "outputs": [
    {
     "data": {
      "text/plain": [
       "bowler\n",
       "SL Malinga    170\n",
       "Name: player_dismissed, dtype: int64"
      ]
     },
     "execution_count": 294,
     "metadata": {},
     "output_type": "execute_result"
    }
   ],
   "source": [
    "max_wicket = data_df[data_df[\"dismissal_kind\"] != \"run out\"]\n",
    "max_wicket.groupby(\"bowler\")[\"player_dismissed\"].count().sort_values(ascending=False).head(1)"
   ]
  },
  {
   "cell_type": "markdown",
   "metadata": {},
   "source": [
    "# Ques13: which team had won by maximum number of wickets?"
   ]
  },
  {
   "cell_type": "code",
   "execution_count": 286,
   "metadata": {},
   "outputs": [
    {
     "data": {
      "text/plain": [
       "'Kolkata Knight Riders'"
      ]
     },
     "execution_count": 286,
     "metadata": {},
     "output_type": "execute_result"
    }
   ],
   "source": [
    "data_df=pd.read_csv(\"matches.csv\")\n",
    "data_df.loc[data_df['win_by_wickets'].idxmax()]['winner']"
   ]
  }
 ],
 "metadata": {
  "kernelspec": {
   "display_name": "Python 3",
   "language": "python",
   "name": "python3"
  },
  "language_info": {
   "codemirror_mode": {
    "name": "ipython",
    "version": 3
   },
   "file_extension": ".py",
   "mimetype": "text/x-python",
   "name": "python",
   "nbconvert_exporter": "python",
   "pygments_lexer": "ipython3",
   "version": "3.7.3"
  }
 },
 "nbformat": 4,
 "nbformat_minor": 2
}
